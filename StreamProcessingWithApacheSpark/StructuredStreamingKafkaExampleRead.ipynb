{
 "cells": [
  {
   "cell_type": "code",
   "execution_count": 3,
   "id": "coastal-bowling",
   "metadata": {},
   "outputs": [],
   "source": [
    "from pyspark.sql import SparkSession"
   ]
  },
  {
   "cell_type": "code",
   "execution_count": 4,
   "id": "binding-championship",
   "metadata": {},
   "outputs": [
    {
     "name": "stdout",
     "output_type": "stream",
     "text": [
      "3.1.2\n"
     ]
    }
   ],
   "source": [
    "spark = SparkSession.builder\\\n",
    "                    .master('local')\\\n",
    "                    .config('spark.jars.packages', 'org.apache.spark:spark-sql-kafka-0-10_2.12:3.1.2')\\\n",
    "                    .appName('spark-streaming-operation-write')\\\n",
    "                    .getOrCreate()\n",
    "\n",
    "print(spark.version)"
   ]
  },
  {
   "cell_type": "code",
   "execution_count": 5,
   "id": "liquid-visibility",
   "metadata": {},
   "outputs": [],
   "source": [
    "rawData = spark.readStream.format(\"kafka\")\\\n",
    "                                .option(\"kafka.bootstrap.servers\", \"10.5.0.10:9092\")\\\n",
    "                                .option(\"subscribe\", \"iot-data\")\\\n",
    "                                .option(\"startingOffsets\", \"earliest\")\\\n",
    "                                .load()"
   ]
  },
  {
   "cell_type": "code",
   "execution_count": 6,
   "id": "behavioral-prince",
   "metadata": {},
   "outputs": [
    {
     "data": {
      "text/plain": [
       "DataFrame[key: binary, value: binary, topic: string, partition: int, offset: bigint, timestamp: timestamp, timestampType: int]"
      ]
     },
     "execution_count": 6,
     "metadata": {},
     "output_type": "execute_result"
    }
   ],
   "source": [
    "rawData"
   ]
  },
  {
   "cell_type": "code",
   "execution_count": 7,
   "id": "national-referral",
   "metadata": {},
   "outputs": [
    {
     "data": {
      "text/plain": [
       "True"
      ]
     },
     "execution_count": 7,
     "metadata": {},
     "output_type": "execute_result"
    }
   ],
   "source": [
    "rawData.isStreaming"
   ]
  },
  {
   "cell_type": "code",
   "execution_count": 8,
   "id": "biological-argentina",
   "metadata": {},
   "outputs": [
    {
     "name": "stdout",
     "output_type": "stream",
     "text": [
      "root\n",
      " |-- key: binary (nullable = true)\n",
      " |-- value: binary (nullable = true)\n",
      " |-- topic: string (nullable = true)\n",
      " |-- partition: integer (nullable = true)\n",
      " |-- offset: long (nullable = true)\n",
      " |-- timestamp: timestamp (nullable = true)\n",
      " |-- timestampType: integer (nullable = true)\n",
      "\n"
     ]
    }
   ],
   "source": [
    "rawData.printSchema()"
   ]
  },
  {
   "cell_type": "code",
   "execution_count": 9,
   "id": "studied-interim",
   "metadata": {},
   "outputs": [],
   "source": [
    "iotData = rawData.select(\"*\")"
   ]
  },
  {
   "cell_type": "code",
   "execution_count": 10,
   "id": "infinite-postage",
   "metadata": {},
   "outputs": [
    {
     "name": "stdout",
     "output_type": "stream",
     "text": [
      "root\n",
      " |-- key: binary (nullable = true)\n",
      " |-- value: binary (nullable = true)\n",
      " |-- topic: string (nullable = true)\n",
      " |-- partition: integer (nullable = true)\n",
      " |-- offset: long (nullable = true)\n",
      " |-- timestamp: timestamp (nullable = true)\n",
      " |-- timestampType: integer (nullable = true)\n",
      "\n"
     ]
    }
   ],
   "source": [
    "iotData.printSchema()"
   ]
  },
  {
   "cell_type": "code",
   "execution_count": 11,
   "id": "designing-clock",
   "metadata": {},
   "outputs": [],
   "source": [
    "query = rawData.writeStream.outputMode(\"append\")\\\n",
    "                        .format(\"parquet\")\\\n",
    "                        .option(\"path\", \"./tmp/iot-read-topic\")\\\n",
    "                        .option(\"checkpointLocation\", \"./tmp/streaming-with-spark/consumer-checkpoint\")\\\n",
    "                        .start()"
   ]
  },
  {
   "cell_type": "code",
   "execution_count": 13,
   "id": "canadian-microwave",
   "metadata": {},
   "outputs": [
    {
     "data": {
      "text/plain": [
       "[{'id': '4fda8c2a-0be5-4311-aabc-fe4f4abeded5',\n",
       "  'runId': '10e49de4-ff1b-4e38-b076-d247d7478fd6',\n",
       "  'name': None,\n",
       "  'timestamp': '2021-09-30T13:23:38.712Z',\n",
       "  'batchId': 0,\n",
       "  'numInputRows': 1529,\n",
       "  'inputRowsPerSecond': 0.0,\n",
       "  'processedRowsPerSecond': 443.96051103368177,\n",
       "  'durationMs': {'addBatch': 2567,\n",
       "   'getBatch': 21,\n",
       "   'latestOffset': 556,\n",
       "   'queryPlanning': 230,\n",
       "   'triggerExecution': 3443,\n",
       "   'walCommit': 31},\n",
       "  'stateOperators': [],\n",
       "  'sources': [{'description': 'KafkaV2[Subscribe[iot-data]]',\n",
       "    'startOffset': None,\n",
       "    'endOffset': {'iot-data': {'0': 1529}},\n",
       "    'numInputRows': 1529,\n",
       "    'inputRowsPerSecond': 0.0,\n",
       "    'processedRowsPerSecond': 443.96051103368177}],\n",
       "  'sink': {'description': 'FileSink[./tmp/iot-read-topic]',\n",
       "   'numOutputRows': -1}}]"
      ]
     },
     "execution_count": 13,
     "metadata": {},
     "output_type": "execute_result"
    }
   ],
   "source": [
    "query.recentProgress"
   ]
  },
  {
   "cell_type": "code",
   "execution_count": null,
   "id": "eleven-complex",
   "metadata": {},
   "outputs": [],
   "source": []
  }
 ],
 "metadata": {
  "kernelspec": {
   "display_name": "Python 3",
   "language": "python",
   "name": "python3"
  },
  "language_info": {
   "codemirror_mode": {
    "name": "ipython",
    "version": 3
   },
   "file_extension": ".py",
   "mimetype": "text/x-python",
   "name": "python",
   "nbconvert_exporter": "python",
   "pygments_lexer": "ipython3",
   "version": "3.8.10"
  }
 },
 "nbformat": 4,
 "nbformat_minor": 5
}
