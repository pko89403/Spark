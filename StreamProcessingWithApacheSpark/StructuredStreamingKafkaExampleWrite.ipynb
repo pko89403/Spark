{
 "cells": [
  {
   "cell_type": "code",
   "execution_count": 1,
   "id": "digital-ideal",
   "metadata": {},
   "outputs": [],
   "source": [
    "from pyspark.sql import SparkSession"
   ]
  },
  {
   "cell_type": "code",
   "execution_count": 4,
   "id": "unnecessary-condition",
   "metadata": {},
   "outputs": [
    {
     "name": "stdout",
     "output_type": "stream",
     "text": [
      "3.1.2\n"
     ]
    }
   ],
   "source": [
    "spark = SparkSession.builder\\\n",
    "                    .master('spark://spark-master:7077')\\\n",
    "                    .config('spark.jars.packages', 'org.apache.spark:spark-sql-kafka-0-10_2.12:3.1.2')\\\n",
    "                    .appName('spark-streaming-operation-read')\\\n",
    "                    .getOrCreate()\n",
    "print(spark.version) # .config('spark.cores.max', 2)\\\n"
   ]
  },
  {
   "cell_type": "code",
   "execution_count": 5,
   "id": "continuous-asthma",
   "metadata": {},
   "outputs": [],
   "source": [
    "baseStream = spark.readStream.format(\"rate\").option(\"recordsPerSecond\", 100).load()"
   ]
  },
  {
   "cell_type": "code",
   "execution_count": 6,
   "id": "billion-shanghai",
   "metadata": {},
   "outputs": [
    {
     "name": "stdout",
     "output_type": "stream",
     "text": [
      "root\n",
      " |-- timestamp: timestamp (nullable = true)\n",
      " |-- value: long (nullable = true)\n",
      "\n"
     ]
    }
   ],
   "source": [
    "baseStream.printSchema()"
   ]
  },
  {
   "cell_type": "code",
   "execution_count": 7,
   "id": "noted-state",
   "metadata": {},
   "outputs": [
    {
     "data": {
      "text/plain": [
       "DataFrame[timestamp: timestamp, value: bigint]"
      ]
     },
     "execution_count": 7,
     "metadata": {},
     "output_type": "execute_result"
    }
   ],
   "source": [
    "baseStream"
   ]
  },
  {
   "cell_type": "code",
   "execution_count": 8,
   "id": "middle-robert",
   "metadata": {},
   "outputs": [],
   "source": [
    "from pyspark.sql.types import IntegerType, StringType\n",
    "from pyspark.sql.functions import udf, lit\n",
    "import random \n",
    "\n",
    "my_udf = udf(lambda x: random.randrange(10000), StringType())"
   ]
  },
  {
   "cell_type": "code",
   "execution_count": 9,
   "id": "electric-yeast",
   "metadata": {},
   "outputs": [],
   "source": [
    "sensorValues = baseStream.withColumn(\"sensorId\", my_udf(lit(10000)))\\\n",
    "                        .withColumn(\"value\",baseStream.value.cast('string'))"
   ]
  },
  {
   "cell_type": "code",
   "execution_count": 10,
   "id": "organized-queens",
   "metadata": {},
   "outputs": [
    {
     "name": "stdout",
     "output_type": "stream",
     "text": [
      "root\n",
      " |-- timestamp: timestamp (nullable = true)\n",
      " |-- value: string (nullable = true)\n",
      " |-- sensorId: string (nullable = true)\n",
      "\n"
     ]
    }
   ],
   "source": [
    "sensorValues.printSchema()"
   ]
  },
  {
   "cell_type": "code",
   "execution_count": 11,
   "id": "demonstrated-interpretation",
   "metadata": {},
   "outputs": [],
   "source": [
    "# test_df = sensorValues.writeStream.format(\"console\")\\\n",
    "#                                 .outputMode(\"append\")\\\n",
    "#                                 .option(\"truncate\", \"false\")\\\n",
    "#                                 .start()\\\n",
    "#                                 .awaitTermination()"
   ]
  },
  {
   "cell_type": "code",
   "execution_count": null,
   "id": "architectural-pavilion",
   "metadata": {},
   "outputs": [],
   "source": [
    "kafka_df = sensorValues.writeStream.format(\"kafka\")\\\n",
    "                                .queryName(\"kafkaWriter3\")\\\n",
    "                                .outputMode(\"append\")\\\n",
    "                                .option(\"kafka.bootstrap.servers\", \"10.5.0.10:9092\")\\\n",
    "                                .option(\"topic\", \"iot-data2\")\\\n",
    "                                .option(\"checkpointLocation\", \"./tmp/streaming-with-spark/generator-checkpoint\")\\\n",
    "                                .option(\"failOnDataLoss\", \"false\")\\\n",
    "                                .start()\\\n",
    "                                .awaitTermination()"
   ]
  }
 ],
 "metadata": {
  "kernelspec": {
   "display_name": "Python 3",
   "language": "python",
   "name": "python3"
  },
  "language_info": {
   "codemirror_mode": {
    "name": "ipython",
    "version": 3
   },
   "file_extension": ".py",
   "mimetype": "text/x-python",
   "name": "python",
   "nbconvert_exporter": "python",
   "pygments_lexer": "ipython3",
   "version": "3.8.10"
  }
 },
 "nbformat": 4,
 "nbformat_minor": 5
}
